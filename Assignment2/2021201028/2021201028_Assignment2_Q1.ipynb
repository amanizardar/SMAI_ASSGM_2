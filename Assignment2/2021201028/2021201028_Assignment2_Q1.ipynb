{
  "cells": [
    {
      "cell_type": "markdown",
      "metadata": {
        "id": "khozgWCh2B9w"
      },
      "source": [
        "# Assignment 2 - Question 1\n",
        "The objective of this assignment is to get you familiarize with  the  problem  of  `Clustering`.\n",
        "\n",
        "## Instructions\n",
        "- Write your code and analysis in the indicated cells.\n",
        "- Ensure that this notebook runs without errors when the cells are run in sequence.\n",
        "- Do not attempt to change the contents of other cells.\n",
        "- No inbuilt functions to be used until specified\n",
        "\n",
        "## Submission\n",
        "- Ensure that this notebook runs without errors when the cells are run in sequence.\n",
        "- Rename the notebook to `<roll_number>_Assignment2_Q1.ipynb`."
      ]
    },
    {
      "cell_type": "code",
      "execution_count": 19,
      "metadata": {
        "colab": {
          "base_uri": "https://localhost:8080/"
        },
        "id": "TdEXGGO0AqkW",
        "outputId": "b215eae5-ff43-4d8c-9b1d-588c34f9aaf8"
      },
      "outputs": [
        {
          "output_type": "stream",
          "name": "stdout",
          "text": [
            "[nltk_data] Downloading package punkt to /root/nltk_data...\n",
            "[nltk_data]   Package punkt is already up-to-date!\n"
          ]
        }
      ],
      "source": [
        "import nltk\n",
        "nltk.download('punkt')    \n",
        "# if u r facing issues while importing nltk, please uncomment above line and run\n",
        "import re\n",
        "import numpy as np\n",
        "import sklearn\n",
        "from nltk.tokenize import RegexpTokenizer\n",
        "from nltk.tokenize import sent_tokenize\n",
        "from sklearn.feature_extraction.text import TfidfVectorizer\n",
        "import pandas as pd"
      ]
    },
    {
      "cell_type": "code",
      "execution_count": 2,
      "metadata": {
        "id": "5N2FkdFMxixH",
        "colab": {
          "base_uri": "https://localhost:8080/"
        },
        "outputId": "51b580a3-3604-44eb-e9da-bf0c855c2d44"
      },
      "outputs": [
        {
          "output_type": "stream",
          "name": "stdout",
          "text": [
            "Requirement already satisfied: sentence-transformers in /usr/local/lib/python3.7/dist-packages (2.2.0)\n",
            "Requirement already satisfied: huggingface-hub in /usr/local/lib/python3.7/dist-packages (from sentence-transformers) (0.5.1)\n",
            "Requirement already satisfied: torchvision in /usr/local/lib/python3.7/dist-packages (from sentence-transformers) (0.11.1+cu111)\n",
            "Requirement already satisfied: numpy in /usr/local/lib/python3.7/dist-packages (from sentence-transformers) (1.21.5)\n",
            "Requirement already satisfied: tqdm in /usr/local/lib/python3.7/dist-packages (from sentence-transformers) (4.64.0)\n",
            "Requirement already satisfied: scipy in /usr/local/lib/python3.7/dist-packages (from sentence-transformers) (1.4.1)\n",
            "Requirement already satisfied: nltk in /usr/local/lib/python3.7/dist-packages (from sentence-transformers) (3.2.5)\n",
            "Requirement already satisfied: transformers<5.0.0,>=4.6.0 in /usr/local/lib/python3.7/dist-packages (from sentence-transformers) (4.18.0)\n",
            "Requirement already satisfied: scikit-learn in /usr/local/lib/python3.7/dist-packages (from sentence-transformers) (1.0.2)\n",
            "Requirement already satisfied: sentencepiece in /usr/local/lib/python3.7/dist-packages (from sentence-transformers) (0.1.96)\n",
            "Requirement already satisfied: torch>=1.6.0 in /usr/local/lib/python3.7/dist-packages (from sentence-transformers) (1.10.0+cu111)\n",
            "Requirement already satisfied: typing-extensions in /usr/local/lib/python3.7/dist-packages (from torch>=1.6.0->sentence-transformers) (4.1.1)\n",
            "Requirement already satisfied: filelock in /usr/local/lib/python3.7/dist-packages (from transformers<5.0.0,>=4.6.0->sentence-transformers) (3.6.0)\n",
            "Requirement already satisfied: sacremoses in /usr/local/lib/python3.7/dist-packages (from transformers<5.0.0,>=4.6.0->sentence-transformers) (0.0.49)\n",
            "Requirement already satisfied: packaging>=20.0 in /usr/local/lib/python3.7/dist-packages (from transformers<5.0.0,>=4.6.0->sentence-transformers) (21.3)\n",
            "Requirement already satisfied: tokenizers!=0.11.3,<0.13,>=0.11.1 in /usr/local/lib/python3.7/dist-packages (from transformers<5.0.0,>=4.6.0->sentence-transformers) (0.12.1)\n",
            "Requirement already satisfied: requests in /usr/local/lib/python3.7/dist-packages (from transformers<5.0.0,>=4.6.0->sentence-transformers) (2.23.0)\n",
            "Requirement already satisfied: importlib-metadata in /usr/local/lib/python3.7/dist-packages (from transformers<5.0.0,>=4.6.0->sentence-transformers) (4.11.3)\n",
            "Requirement already satisfied: regex!=2019.12.17 in /usr/local/lib/python3.7/dist-packages (from transformers<5.0.0,>=4.6.0->sentence-transformers) (2019.12.20)\n",
            "Requirement already satisfied: pyyaml>=5.1 in /usr/local/lib/python3.7/dist-packages (from transformers<5.0.0,>=4.6.0->sentence-transformers) (6.0)\n",
            "Requirement already satisfied: pyparsing!=3.0.5,>=2.0.2 in /usr/local/lib/python3.7/dist-packages (from packaging>=20.0->transformers<5.0.0,>=4.6.0->sentence-transformers) (3.0.8)\n",
            "Requirement already satisfied: zipp>=0.5 in /usr/local/lib/python3.7/dist-packages (from importlib-metadata->transformers<5.0.0,>=4.6.0->sentence-transformers) (3.8.0)\n",
            "Requirement already satisfied: six in /usr/local/lib/python3.7/dist-packages (from nltk->sentence-transformers) (1.15.0)\n",
            "Requirement already satisfied: idna<3,>=2.5 in /usr/local/lib/python3.7/dist-packages (from requests->transformers<5.0.0,>=4.6.0->sentence-transformers) (2.10)\n",
            "Requirement already satisfied: urllib3!=1.25.0,!=1.25.1,<1.26,>=1.21.1 in /usr/local/lib/python3.7/dist-packages (from requests->transformers<5.0.0,>=4.6.0->sentence-transformers) (1.24.3)\n",
            "Requirement already satisfied: chardet<4,>=3.0.2 in /usr/local/lib/python3.7/dist-packages (from requests->transformers<5.0.0,>=4.6.0->sentence-transformers) (3.0.4)\n",
            "Requirement already satisfied: certifi>=2017.4.17 in /usr/local/lib/python3.7/dist-packages (from requests->transformers<5.0.0,>=4.6.0->sentence-transformers) (2021.10.8)\n",
            "Requirement already satisfied: click in /usr/local/lib/python3.7/dist-packages (from sacremoses->transformers<5.0.0,>=4.6.0->sentence-transformers) (7.1.2)\n",
            "Requirement already satisfied: joblib in /usr/local/lib/python3.7/dist-packages (from sacremoses->transformers<5.0.0,>=4.6.0->sentence-transformers) (1.1.0)\n",
            "Requirement already satisfied: threadpoolctl>=2.0.0 in /usr/local/lib/python3.7/dist-packages (from scikit-learn->sentence-transformers) (3.1.0)\n",
            "Requirement already satisfied: pillow!=8.3.0,>=5.3.0 in /usr/local/lib/python3.7/dist-packages (from torchvision->sentence-transformers) (7.1.2)\n"
          ]
        }
      ],
      "source": [
        "!pip install sentence-transformers\n",
        "from sentence_transformers import SentenceTransformer\n"
      ]
    },
    {
      "cell_type": "markdown",
      "metadata": {
        "id": "s-1irtUhxlp2"
      },
      "source": [
        "# Dataset\n",
        "\n",
        "\n",
        "\n",
        "*   Try to explore the dataset and first understand\n",
        "*   Steps while processing the dataset:\n",
        "\n",
        "1.   Load the dataset\n",
        ">> The 20 newsgroups dataset comprises around 18000 newsgroups posts on 20 topics split in two subsets: train and test. Here, we only use train part of the dataset as we don't need any training.\n",
        "\n",
        "2.   pre-processing of the dataset\n",
        ">>   A set of basic pre-processing steps are given below, if you can do it better, it is appreciable\n",
        "3.   Trying to obtain the embeddings for the text. \n",
        ">> Here, we used bert model to obtain the embeddings, if you want to use anyother sentence/word embeddings (ELMo,universal sentence encoder, or other bert models) you can use it, but not mandatorily change it)\n",
        "\n",
        "PS: You need not completely understand how bert works. If you are interested, few links will be mentioned below."
      ]
    },
    {
      "cell_type": "code",
      "execution_count": 3,
      "metadata": {
        "id": "oqkn6iSNmEo1"
      },
      "outputs": [],
      "source": [
        "# loading of dataset\n",
        "\n",
        "from sklearn.datasets import fetch_20newsgroups\n",
        "newsgroups_train = fetch_20newsgroups(subset='train')\n",
        "\n",
        "# print(list(newsgroups_train))\n",
        "#['data', 'filenames', 'target_names', 'target', 'DESCR']\n",
        "# all we require for our task is data and target. \n",
        "#target_names describe the different groups present (which are 20) all over the dataset\n",
        "\n",
        "# print(list(newsgroups_train.target_names))"
      ]
    },
    {
      "cell_type": "code",
      "source": [
        "# print(newsgroups_train)"
      ],
      "metadata": {
        "id": "Dnq-UMPo2qSh"
      },
      "execution_count": 4,
      "outputs": []
    },
    {
      "cell_type": "code",
      "execution_count": 5,
      "metadata": {
        "id": "NNRbIfsX01hD"
      },
      "outputs": [],
      "source": [
        "bert_model = SentenceTransformer('bert-base-nli-mean-tokens')"
      ]
    },
    {
      "cell_type": "code",
      "execution_count": 6,
      "metadata": {
        "id": "kp8UL8lP5U2k"
      },
      "outputs": [],
      "source": [
        "#preprocessing of sentences and the article\n",
        "\n",
        "def remove_punct(text):\n",
        "  text = re.sub('[^a-zA-Z0-9 ]+','', text)\n",
        "  return text\n",
        "\n",
        "def remove_urls(text):\n",
        "  url_pattern = re.compile(r'https?://\\S+|www\\.\\S+')\n",
        "  return url_pattern.sub(r'', text)\n",
        "\n",
        "def remove_tag(text):   \n",
        "  text=' '.join(text)\n",
        "  html_pattern = re.compile('<.*?>')\n",
        "  return html_pattern.sub(r'', text)\n",
        "\n",
        "def pre_process_sentence(sentence):\n",
        "  sentence = sentence.lower()\n",
        "  sentence = remove_punct(remove_urls(sentence))\n",
        "  return sentence\n",
        "\n",
        "def pre_process_article(article):\n",
        "  article = str(article).replace(\"\\n\", '')\n",
        "  article = sent_tokenize(article)\n",
        "  sentences = []\n",
        "  for each in article:\n",
        "    if len(each.split(\":\")) > 1:\n",
        "      continue\n",
        "    sentences.append(pre_process_sentence(each))\n",
        "  return sentences\n",
        "\n"
      ]
    },
    {
      "cell_type": "code",
      "execution_count": 7,
      "metadata": {
        "id": "72IcGYs980zK"
      },
      "outputs": [],
      "source": [
        "\n",
        "def get_review_embedding(article):\n",
        "  sentences = pre_process_article(article)\n",
        "\n",
        "  #here review(input) has to be a list of sentences\n",
        "  #use suitable embeddings to get an embedding for the whole review\n",
        "  #usage of sentence embeddings is recommended\n",
        "\n",
        "  sentence_embeddings = bert_model.encode(sentences)\n",
        "\n",
        "  # take average of all sentence embeddings to obtain a review embedding \n",
        "  review_embedding = np.zeros(768)\n",
        "  for each in sentence_embeddings:\n",
        "    review_embedding = np.add(np.array(each), review_embedding)\n",
        "\n",
        "  return review_embedding\n",
        "\n",
        "\n"
      ]
    },
    {
      "cell_type": "code",
      "source": [
        "len(newsgroups_train.data)"
      ],
      "metadata": {
        "colab": {
          "base_uri": "https://localhost:8080/"
        },
        "id": "Y004nB8V5CeN",
        "outputId": "9b2350da-ad72-4f0d-f1ea-d926352796c1"
      },
      "execution_count": 8,
      "outputs": [
        {
          "output_type": "execute_result",
          "data": {
            "text/plain": [
              "11314"
            ]
          },
          "metadata": {},
          "execution_count": 8
        }
      ]
    },
    {
      "cell_type": "code",
      "execution_count": 9,
      "metadata": {
        "id": "pbkl4Ux0JPi2"
      },
      "outputs": [],
      "source": [
        "# X, y = \n",
        "X =[]\n",
        "y=[]\n",
        "cnt=0\n",
        "for each in newsgroups_train.data:\n",
        "  article_embedding = get_review_embedding(each)\n",
        "  X.append(article_embedding)\n",
        "  # cnt+=1\n",
        "  # if(cnt==2):\n",
        "  #   break\n",
        "y = newsgroups_train.target"
      ]
    },
    {
      "cell_type": "code",
      "source": [
        "X=np.array(X)\n",
        "y=np.array(y)\n",
        "# X.shape\n",
        "# y"
      ],
      "metadata": {
        "id": "g2jKaEGPCqxP"
      },
      "execution_count": 10,
      "outputs": []
    },
    {
      "cell_type": "code",
      "source": [
        ""
      ],
      "metadata": {
        "id": "oSp3jLGbT3D6"
      },
      "execution_count": 10,
      "outputs": []
    },
    {
      "cell_type": "code",
      "execution_count": 11,
      "metadata": {
        "id": "JkaKG4WW9eXx",
        "colab": {
          "base_uri": "https://localhost:8080/",
          "height": 265
        },
        "outputId": "28617b77-d88d-4094-fffb-bfd1268fc7bd"
      },
      "outputs": [
        {
          "output_type": "display_data",
          "data": {
            "text/plain": [
              "<Figure size 432x288 with 1 Axes>"
            ],
            "image/png": "[encoded data removed]"
          },
          "metadata": {
            "needs_background": "light"
          }
        }
      ],
      "source": [
        "# data visualization \n",
        "\n",
        "# Try to visualise the points from all the domains and try to visualise them \n",
        "# hint: you can use PCA \n",
        "\n",
        "import sklearn\n",
        "from sklearn.decomposition import PCA\n",
        "import matplotlib.pyplot as plt\n",
        "pca = PCA()\n",
        "Xt = pca.fit_transform(X)\n",
        "plot = plt.scatter(Xt[:,0], Xt[:,1], c=y)\n",
        "plt.legend(handles=plot.legend_elements()[0], labels=list(newsgroups_train.target))\n",
        "plt.show()\n",
        "\n"
      ]
    },
    {
      "cell_type": "markdown",
      "metadata": {
        "id": "uZH6gO7HA5jk"
      },
      "source": [
        "# K_Means Algorithm\n"
      ]
    },
    {
      "cell_type": "code",
      "execution_count": 12,
      "metadata": {
        "id": "T9TBSHWfgWxU",
        "colab": {
          "base_uri": "https://localhost:8080/"
        },
        "outputId": "c082010c-8f35-49c3-d44f-ccf1ec715d8f"
      },
      "outputs": [
        {
          "output_type": "execute_result",
          "data": {
            "text/plain": [
              "array([0, 0, 0, ..., 0, 0, 0], dtype=int32)"
            ]
          },
          "metadata": {},
          "execution_count": 12
        }
      ],
      "source": [
        "# code to write your Kmeans algorithm\n",
        "#implement your KMeans algorithm here, and visualise the clusters obtained \n",
        "\n",
        "from sklearn.cluster import KMeans\n",
        "# from sklearn.metrics import silhouette_score as myscore\n",
        "\n",
        "kmeans = KMeans(n_clusters=2, random_state=4).fit(X)\n",
        "kmeans.labels_\n"
      ]
    },
    {
      "cell_type": "code",
      "execution_count": 13,
      "metadata": {
        "id": "61GQRof2wkKd",
        "colab": {
          "base_uri": "https://localhost:8080/",
          "height": 265
        },
        "outputId": "7a463340-6946-44df-8652-5b2435f84e4f"
      },
      "outputs": [
        {
          "output_type": "display_data",
          "data": {
            "text/plain": [
              "<Figure size 432x288 with 1 Axes>"
            ],
            "image/png": "[encoded data removed]"
          },
          "metadata": {
            "needs_background": "light"
          }
        }
      ],
      "source": [
        "#code for visualisation of clusters\n",
        "u_labels = np.unique(kmeans.labels_)\n",
        "for i in u_labels:\n",
        "    plt.scatter(Xt[kmeans.labels_ == i , 0] , Xt[kmeans.labels_ == i , 1] , label = i)\n",
        "plt.legend()\n",
        "plt.show()\n",
        "\n",
        "\n"
      ]
    },
    {
      "cell_type": "markdown",
      "metadata": {
        "id": "m2t9Cz6yuJmO"
      },
      "source": [
        "# Elbow method\n",
        "\n",
        "\n",
        "\n",
        "*   Try to understand how elbow method works\n",
        "*   Plot the graph between average distance and the number of clusters\n",
        "*   Use elbow method to find the optimal number of clusters, \n",
        "\n",
        "\n",
        "\n",
        "\n",
        "\n"
      ]
    },
    {
      "cell_type": "code",
      "execution_count": 14,
      "metadata": {
        "id": "JW_stdJuub4s",
        "colab": {
          "base_uri": "https://localhost:8080/",
          "height": 616
        },
        "outputId": "30b3c00f-a770-4de6-da41-b42ac1ca2fc6"
      },
      "outputs": [
        {
          "output_type": "display_data",
          "data": {
            "text/plain": [
              "<Figure size 720x720 with 1 Axes>"
            ],
            "image/png": "[encoded data removed]"
          },
          "metadata": {
            "needs_background": "light"
          }
        }
      ],
      "source": [
        "def elbow_method():\n",
        "  sum_sqa_err = []\n",
        "  for k in range(1, 9):\n",
        "    km = KMeans(n_clusters=k)\n",
        "    km.fit(X)\n",
        "    sum_sqa_err.append(km.inertia_)\n",
        "\n",
        "  plt.figure(figsize=(10, 10))\n",
        "  plt.plot(range(1, 9), sum_sqa_err, '-o', c = 'maroon')\n",
        "  plt.xlabel('number of clusters')\n",
        "  plt.ylabel('Sum of Squared distance')\n",
        "\n",
        "elbow_method()\n"
      ]
    },
    {
      "cell_type": "code",
      "source": [
        ""
      ],
      "metadata": {
        "id": "JJt3WuvxYfTS"
      },
      "execution_count": 14,
      "outputs": []
    },
    {
      "cell_type": "markdown",
      "metadata": {
        "id": "2jHeGh-xuuDc"
      },
      "source": [
        "# Silhouette Method\n",
        "\n",
        "\n",
        "*   Compute silhouette score varying the K number of clusters\n",
        "\n",
        "*   Plot the graph between silhoutte score and number of clusters \n",
        "\n",
        "*   Find the optimal number of clusters using silhouette method\n",
        "\n",
        "\n",
        "\n",
        "\n",
        "> Report the optimal number of clusters you obtained from above two methods (elbow and silhouette)\n",
        "\n",
        "\n"
      ]
    },
    {
      "cell_type": "code",
      "execution_count": 15,
      "metadata": {
        "id": "lKRJ4IBMuwfd",
        "colab": {
          "base_uri": "https://localhost:8080/",
          "height": 606
        },
        "outputId": "faaacae1-9578-456f-aa33-1e019a852e7b"
      },
      "outputs": [
        {
          "output_type": "display_data",
          "data": {
            "text/plain": [
              "<Figure size 720x720 with 1 Axes>"
            ],
            "image/png": "[encoded data removed]"
          },
          "metadata": {
            "needs_background": "light"
          }
        }
      ],
      "source": [
        "def silhouette_score():\n",
        "  score = []\n",
        "  for k in range(2, 9):\n",
        "    km = KMeans(n_clusters=k)\n",
        "    pred= km.fit(X)\n",
        "    thatscore = sklearn.metrics.silhouette_score(X, km.labels_,metric='euclidean')\n",
        "    score.append(thatscore)\n",
        "\n",
        "  plt.figure(figsize=(10, 10))\n",
        "  plt.plot(range(2, 9), score, '-o', c = 'maroon')\n",
        "  plt.xlabel('number of clusters')\n",
        "  plt.ylabel('silhouette_score')\n",
        "\n",
        "silhouette_score()\n",
        "\n",
        "  \n",
        "\n"
      ]
    },
    {
      "cell_type": "markdown",
      "source": [
        "By Elbow method and silhouette_score, it is clear that optimal value of clustes(i.e. the value of k) is 2."
      ],
      "metadata": {
        "id": "mjnIGwdCfsF8"
      }
    },
    {
      "cell_type": "markdown",
      "metadata": {
        "id": "JEvLJxmnuCof"
      },
      "source": [
        "# Agglomerative clustering"
      ]
    },
    {
      "cell_type": "code",
      "execution_count": 16,
      "metadata": {
        "id": "nzssThP1g_NN"
      },
      "outputs": [],
      "source": [
        "# code to write your Kmeans algorithm\n",
        "#implement your KMeans algorithm here, and visualise the clusters obtained \n",
        "\n",
        "from sklearn.cluster import AgglomerativeClustering\n",
        "\n",
        "def AgglomerativeClustering1():\n",
        "  clustering = AgglomerativeClustering().fit(X)\n",
        "  clustering.labels_\n",
        "  u_labels = np.unique(clustering.labels_)\n",
        "  for i in u_labels:\n",
        "    plt.scatter(Xt[kmeans.labels_ == i , 0] , Xt[kmeans.labels_ == i , 1] , label = i)\n",
        "  plt.legend()\n",
        "  plt.show()\n"
      ]
    },
    {
      "cell_type": "code",
      "execution_count": 17,
      "metadata": {
        "id": "whf5OLe2wf6o",
        "colab": {
          "base_uri": "https://localhost:8080/",
          "height": 265
        },
        "outputId": "ac860152-5bd6-4467-f2c1-df817d5bd0ec"
      },
      "outputs": [
        {
          "output_type": "display_data",
          "data": {
            "text/plain": [
              "<Figure size 432x288 with 1 Axes>"
            ],
            "image/png": "[encoded data removed]"
          },
          "metadata": {
            "needs_background": "light"
          }
        }
      ],
      "source": [
        "#code for visualisation of clusters\n",
        "\n",
        "AgglomerativeClustering1()\n",
        "\n",
        "\n"
      ]
    },
    {
      "cell_type": "markdown",
      "metadata": {
        "id": "ZdNC7XxxwuJW"
      },
      "source": [
        "# Dendogram\n",
        "\n",
        "\n",
        "*   Try to understand the difference between agglomerative clustering and hierarchical clustering\n",
        "*   Plot dendograms for both kinds of clustering\n",
        "*   Find the optimal number of clusters with the help of Dendogram\n",
        "\n"
      ]
    },
    {
      "cell_type": "code",
      "execution_count": 20,
      "metadata": {
        "id": "1NWavQn0hW3i",
        "colab": {
          "base_uri": "https://localhost:8080/",
          "height": 505
        },
        "outputId": "37944d9a-e951-4f47-eddb-871476398a92"
      },
      "outputs": [
        {
          "output_type": "display_data",
          "data": {
            "text/plain": [
              "<Figure size 576x576 with 1 Axes>"
            ],
            "image/png": "[encoded data removed]"
          },
          "metadata": {
            "needs_background": "light"
          }
        }
      ],
      "source": [
        "# code to write dendogram\n",
        "\n",
        "pca = PCA(n_components = 2)\n",
        "X_principal = pca.fit_transform(X)\n",
        "X_principal = pd.DataFrame(X_principal)\n",
        "X_principal.columns = ['P1', 'P2']\n",
        "\n",
        "import scipy.cluster.hierarchy as shc\n",
        "import pandas as pd\n",
        "plt.figure(figsize =(8, 8))\n",
        "plt.title('Visualising the data')\n",
        "Dendrogram = shc.dendrogram((shc.linkage(X_principal, method ='ward')))\n",
        "\n",
        "\n",
        "\n"
      ]
    },
    {
      "cell_type": "markdown",
      "source": [
        "By looking at the above dendogram, it is clear that optimal number of clusters are 2."
      ],
      "metadata": {
        "id": "EI_JmgpinGy5"
      }
    },
    {
      "cell_type": "markdown",
      "metadata": {
        "id": "B3On7lpA11eB"
      },
      "source": [
        "# useful links to understand BERT\n",
        "\n",
        "*  https://towardsdatascience.com/bert-explained-state-of-the-art-language-model-for-nlp-f8b21a9b6270#:~:text=How%20BERT%20works,%2Dwords)%20in%20a%20text.&text=As%20opposed%20to%20directional%20models,sequence%20of%20words%20at%20once.\n",
        "\n",
        "\n"
      ]
    },
    {
      "cell_type": "code",
      "execution_count": null,
      "metadata": {
        "id": "ya0r2o3j2B-R"
      },
      "outputs": [],
      "source": [
        ""
      ]
    }
  ],
  "metadata": {
    "colab": {
      "name": "2021201028_Assignment2_Q1.ipynb",
      "provenance": [],
      "collapsed_sections": []
    },
    "kernelspec": {
      "display_name": "Python 3",
      "language": "python",
      "name": "python3"
    },
    "language_info": {
      "codemirror_mode": {
        "name": "ipython",
        "version": 3
      },
      "file_extension": ".py",
      "mimetype": "text/x-python",
      "name": "python",
      "nbconvert_exporter": "python",
      "pygments_lexer": "ipython3",
      "version": "3.8.5"
    },
    "accelerator": "GPU"
  },
  "nbformat": 4,
  "nbformat_minor": 0
}